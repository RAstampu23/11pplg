{
  "nbformat": 4,
  "nbformat_minor": 0,
  "metadata": {
    "colab": {
      "provenance": [],
      "authorship_tag": "ABX9TyNZL77VL31lLscc2GXy9qMN",
      "include_colab_link": true
    },
    "kernelspec": {
      "name": "python3",
      "display_name": "Python 3"
    },
    "language_info": {
      "name": "python"
    }
  },
  "cells": [
    {
      "cell_type": "markdown",
      "metadata": {
        "id": "view-in-github",
        "colab_type": "text"
      },
      "source": [
        "<a href=\"https://colab.research.google.com/github/RAstampu23/11pplg/blob/main/for.ipynb\" target=\"_parent\"><img src=\"https://colab.research.google.com/assets/colab-badge.svg\" alt=\"Open In Colab\"/></a>"
      ]
    },
    {
      "cell_type": "markdown",
      "source": [
        "# **For loops**\n",
        "Metode lain yang berguna dalam bahasa pemrograman Python adalah iterator. Hal ini sangat membantu jika Anda ingin melakukan sesuatu beberapa kali.\n",
        "\n",
        "print(\"Hai\")\n",
        "\n",
        "print(\"Hai\")\n",
        "\n",
        "print(\"Hai\")\n",
        "\n",
        "Dapat dibayangkan jika kita ingin menulis kata \"Hai\" sebanyak seribu kali, tentu kode program kita akan sangat sulit untuk di baca, selain itu, kemungkinan terjadinya kesalahan sangat lah besar. Oleh karena itu, kita dapat menggunakan suatu cara yang disebut loop atau iterator. Ada dua cara untuk menjalankan perintah tersebut, yaitu dengan for atau while loop.\n",
        "Pada contoh kali ini, kita akan menggunakan metode range. Metode ini yang menentukan rentang loop seberapa banyak perintah harus di ulang. Secara default, titik awalnya adalah 0."
      ],
      "metadata": {
        "id": "gdbmPgDnbNN2"
      }
    },
    {
      "cell_type": "code",
      "execution_count": null,
      "metadata": {
        "id": "QWFL90fybJCc"
      },
      "outputs": [],
      "source": [
        "for i in range(3):\n",
        " print(\"Hai\")"
      ]
    },
    {
      "cell_type": "markdown",
      "source": [
        "# **While loops**\n",
        "Dalam bahasa pemrograman Python, terdapat metode loop atau iterator yang lain, yaitu while loop. Kita pun dapat memberikan hasil yang sama seperti yang telah kita lakukan pada for loop dengan menggunakan while loop, seperti contoh di bawah ini:\n",
        "\n",
        "i = 0\n",
        "\n",
        "while i < 3:\n",
        "\n",
        "  print(\"Angka\", i)\n",
        "\n",
        "  i += 1\n",
        "\n",
        "Output\n",
        "\n",
        "Angka 0\n",
        "\n",
        "Angka 1\n",
        "\n",
        "Angka 2\n",
        "\n",
        "Perlu diperhatikan bahwa, setiap kali kita menggunakan perintah while loop. Kita harus menambahkan statement increment atau statement yang dapat menghentikan loop pada titik tertentu. Jika kita tidak menggunakannya, maka proses loop akan berjalan selama nya.\n",
        "Cara lain untuk menghentikan loop adalah dengan menambahkan statement break di dalam while loop. Perintah ini akan menghentikan loop seperti pada contoh di bawah ini."
      ],
      "metadata": {
        "id": "JQc4rEJubveY"
      }
    },
    {
      "cell_type": "code",
      "source": [
        "i = 0\n",
        "while i < 3:\n",
        "    if i == 3:\n",
        "           break\n",
        "    print(\"Angka\", i)\n",
        "    i += 1"
      ],
      "metadata": {
        "id": "a7afvb6OcD9w"
      },
      "execution_count": null,
      "outputs": []
    }
  ]
}