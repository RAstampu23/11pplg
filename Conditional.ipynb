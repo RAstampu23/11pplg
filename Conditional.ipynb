{
  "nbformat": 4,
  "nbformat_minor": 0,
  "metadata": {
    "colab": {
      "provenance": [],
      "authorship_tag": "ABX9TyPccc0YoP3CogS0W86XKZb+",
      "include_colab_link": true
    },
    "kernelspec": {
      "name": "python3",
      "display_name": "Python 3"
    },
    "language_info": {
      "name": "python"
    }
  },
  "cells": [
    {
      "cell_type": "markdown",
      "metadata": {
        "id": "view-in-github",
        "colab_type": "text"
      },
      "source": [
        "<a href=\"https://colab.research.google.com/github/RAstampu23/11pplg/blob/main/Conditional.ipynb\" target=\"_parent\"><img src=\"https://colab.research.google.com/assets/colab-badge.svg\" alt=\"Open In Colab\"/></a>"
      ]
    },
    {
      "cell_type": "markdown",
      "source": [
        "# **Conditional Statement**\n",
        "Conditional statement digunakan untuk memeriksa suatu kondisi yang ditentukan sebelumnya apakah nilai nya True atau False.\n",
        "\n",
        "Sering kali ketika kita sedang mengembangkan suatu aplikasi, ada hal di mana kita perlu memeriksa suatu kondisi tertentu lalu melakukan perintah yang berbeda tergantung pada hasil sebelumnya. Dalam skenario seperti itu conditional statement akan sangat berguna. if, elif dan else adalah pernyataan kondisional yang digunakan dalam bahasa pemrograman Python.\n",
        "Dengan conditional statement, kita dapat membandingkan suatu variable dan memeriksanya apakah variable tersebut memiliki nilai atau merupakan suatu boolean, dan selanjutnya memeriksa apakah True atau False. Oleh karena itu, mari kita praktekan penggunaannya."
      ],
      "metadata": {
        "id": "0Z_KkGZyYyA-"
      }
    },
    {
      "cell_type": "markdown",
      "source": [
        "#**Kondisi Pertama**"
      ],
      "metadata": {
        "id": "Bi2jyEmHY3aV"
      }
    },
    {
      "cell_type": "code",
      "source": [
        "angka = 5\n",
        "if angka == 10:\n",
        " print(\"angka adalah 10\")\n",
        "elif angka < 10:\n",
        " print(\"angka adalah kurang dari 10\")\n",
        "else:\n",
        " print(\"angka adalah lebih dari 10\")"
      ],
      "metadata": {
        "colab": {
          "base_uri": "https://localhost:8080/"
        },
        "id": "lUtug8DEY-dq",
        "outputId": "553e3323-d88f-45b1-fd5c-1af55313d96f"
      },
      "execution_count": 2,
      "outputs": [
        {
          "output_type": "stream",
          "name": "stdout",
          "text": [
            "angka adalah kurang dari 10\n"
          ]
        }
      ]
    },
    {
      "cell_type": "markdown",
      "source": [
        "#**Kondisi Kedua**"
      ],
      "metadata": {
        "id": "OIQRoYYuZKE0"
      }
    },
    {
      "cell_type": "code",
      "source": [
        "anda_robot = False\n",
        "if anda_robot:\n",
        " print (\"Ya, saya robot\")\n",
        "else:\n",
        " print (\"bukan, saya manusia\")"
      ],
      "metadata": {
        "id": "btXckvPQZ9Rf"
      },
      "execution_count": null,
      "outputs": []
    },
    {
      "cell_type": "markdown",
      "source": [
        "#**Kondisi Ketiga**"
      ],
      "metadata": {
        "id": "qTvDBcs8aKk1"
      }
    },
    {
      "cell_type": "code",
      "source": [
        "a = 10\n",
        "b = 5\n",
        "if a > b: print(\"a lebih besar dari b\")"
      ],
      "metadata": {
        "colab": {
          "base_uri": "https://localhost:8080/"
        },
        "id": "w4eC7pV_aQlH",
        "outputId": "114df136-acc1-4d1a-ddc1-8d28ead2a337"
      },
      "execution_count": 3,
      "outputs": [
        {
          "output_type": "stream",
          "name": "stdout",
          "text": [
            "a lebih besar dari b\n"
          ]
        }
      ]
    }
  ]
}